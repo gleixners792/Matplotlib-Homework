{
 "cells": [
  {
   "cell_type": "raw",
   "metadata": {},
   "source": [
    "## Observations and Insights \n",
    "\n",
    "Observations by Mike Gleixner\n",
    "\n",
    "1) The regimens Ramicane and Capomulin appear to have the most promise for reducing tumor size.\n",
    "\n",
    "2) The data gathered appears to have normal or near normal distributions to it.\n",
    "\n",
    "3) The mice that were following the regimens of Ramicane and Capomulin had the longer stay time in the study. The other regimens mice had much worse retention during and to the end of the study.\n",
    "\n",
    "4) Mouse weight has direct correlation to tumor size when mice are on the Capomulin regimen.\n",
    "\n",
    "5) The study had a 50/50 split of males to females."
   ]
  },
  {
   "cell_type": "markdown",
   "metadata": {},
   "source": []
  },
  {
   "cell_type": "code",
   "execution_count": 1,
   "metadata": {},
   "outputs": [],
   "source": [
    "# Dependencies and Setup\n",
    "import matplotlib.pyplot as plt\n",
    "import pandas as pd\n",
    "import scipy.stats as st\n",
    "\n",
    "# Study data files\n",
    "mouse_metadata_path = \"data/Mouse_metadata.csv\"\n",
    "study_results_path = \"data/Study_results.csv\"\n",
    "\n",
    "# Read the mouse data and the study results\n",
    "mouse_metadata = pd.read_csv(mouse_metadata_path)\n",
    "study_results = pd.read_csv(study_results_path)\n",
    "\n",
    "# Combine the data into a single dataset\n",
    "mouse_data_df = pd.merge(study_results, mouse_metadata, on=\"Mouse ID\", how=\"inner\")"
   ]
  },
  {
   "cell_type": "code",
   "execution_count": 2,
   "metadata": {},
   "outputs": [
    {
     "data": {
      "text/plain": [
       "g989    13\n",
       "q633    10\n",
       "j989    10\n",
       "a411    10\n",
       "q511    10\n",
       "        ..\n",
       "h428     1\n",
       "x336     1\n",
       "t573     1\n",
       "f932     1\n",
       "l872     1\n",
       "Name: Mouse ID, Length: 249, dtype: int64"
      ]
     },
     "execution_count": 2,
     "metadata": {},
     "output_type": "execute_result"
    }
   ],
   "source": [
    "# Checking the number of mice in the DataFrame.\n",
    "\n",
    "mouse_data_df['Mouse ID'].value_counts()\n",
    "\n",
    "#mouse_data_df.count()\n",
    "#mouse_data_df.info()\n",
    "#mouse_data_df.head(10)\n",
    "#mouse_data_df.index"
   ]
  },
  {
   "cell_type": "code",
   "execution_count": 3,
   "metadata": {},
   "outputs": [
    {
     "name": "stdout",
     "output_type": "stream",
     "text": [
      "<class 'pandas.core.frame.DataFrame'>\n",
      "Int64Index: 1893 entries, 898 to 101\n",
      "Data columns (total 9 columns):\n",
      " #   Column              Non-Null Count  Dtype  \n",
      "---  ------              --------------  -----  \n",
      " 0   Mouse ID            1893 non-null   object \n",
      " 1   Timepoint           1893 non-null   int64  \n",
      " 2   Tumor Volume (mm3)  1893 non-null   float64\n",
      " 3   Metastatic Sites    1893 non-null   int64  \n",
      " 4   Drug Regimen        1893 non-null   object \n",
      " 5   Sex                 1893 non-null   object \n",
      " 6   Age_months          1893 non-null   int64  \n",
      " 7   Weight (g)          1893 non-null   int64  \n",
      " 8   mouse_check         1893 non-null   object \n",
      "dtypes: float64(1), int64(4), object(4)\n",
      "memory usage: 147.9+ KB\n"
     ]
    }
   ],
   "source": [
    "# Getting the duplicate mice by ID number that shows up for Mouse ID and Timepoint.\n",
    "\n",
    "mouse_data_df[\"mouse_check\"] = mouse_data_df[\"Mouse ID\"] + \"-\" + mouse_data_df[\"Timepoint\"].apply(str)\n",
    "mouse_data_df = mouse_data_df.sort_values(\"mouse_check\",ascending=True)\n",
    "\n",
    "#mouse_data_df[\"Mouse ID\"].count()\n",
    "#mouse_recs = mouse_data_df[\"Mouse ID\"].count()\n",
    "\n",
    "mouse_data_df.info()"
   ]
  },
  {
   "cell_type": "code",
   "execution_count": 4,
   "metadata": {},
   "outputs": [
    {
     "data": {
      "text/html": [
       "<div>\n",
       "<style scoped>\n",
       "    .dataframe tbody tr th:only-of-type {\n",
       "        vertical-align: middle;\n",
       "    }\n",
       "\n",
       "    .dataframe tbody tr th {\n",
       "        vertical-align: top;\n",
       "    }\n",
       "\n",
       "    .dataframe thead th {\n",
       "        text-align: right;\n",
       "    }\n",
       "</style>\n",
       "<table border=\"1\" class=\"dataframe\">\n",
       "  <thead>\n",
       "    <tr style=\"text-align: right;\">\n",
       "      <th></th>\n",
       "      <th>Mouse ID_x</th>\n",
       "      <th>Timepoint_x</th>\n",
       "      <th>Tumor Volume (mm3)_x</th>\n",
       "      <th>Metastatic Sites_x</th>\n",
       "      <th>Drug Regimen_x</th>\n",
       "      <th>Sex_x</th>\n",
       "      <th>Age_months_x</th>\n",
       "      <th>Weight (g)_x</th>\n",
       "      <th>mouse_check</th>\n",
       "      <th>Mouse ID_y</th>\n",
       "      <th>Timepoint_y</th>\n",
       "      <th>Tumor Volume (mm3)_y</th>\n",
       "      <th>Metastatic Sites_y</th>\n",
       "      <th>Drug Regimen_y</th>\n",
       "      <th>Sex_y</th>\n",
       "      <th>Age_months_y</th>\n",
       "      <th>Weight (g)_y</th>\n",
       "    </tr>\n",
       "  </thead>\n",
       "  <tbody>\n",
       "    <tr>\n",
       "      <th>0</th>\n",
       "      <td>g989</td>\n",
       "      <td>0</td>\n",
       "      <td>45.000000</td>\n",
       "      <td>0</td>\n",
       "      <td>Propriva</td>\n",
       "      <td>Female</td>\n",
       "      <td>21</td>\n",
       "      <td>26</td>\n",
       "      <td>g989-0</td>\n",
       "      <td>g989</td>\n",
       "      <td>0</td>\n",
       "      <td>45.000000</td>\n",
       "      <td>0</td>\n",
       "      <td>Propriva</td>\n",
       "      <td>Female</td>\n",
       "      <td>21</td>\n",
       "      <td>26</td>\n",
       "    </tr>\n",
       "    <tr>\n",
       "      <th>4</th>\n",
       "      <td>g989</td>\n",
       "      <td>5</td>\n",
       "      <td>48.786801</td>\n",
       "      <td>0</td>\n",
       "      <td>Propriva</td>\n",
       "      <td>Female</td>\n",
       "      <td>21</td>\n",
       "      <td>26</td>\n",
       "      <td>g989-5</td>\n",
       "      <td>g989</td>\n",
       "      <td>5</td>\n",
       "      <td>47.570392</td>\n",
       "      <td>0</td>\n",
       "      <td>Propriva</td>\n",
       "      <td>Female</td>\n",
       "      <td>21</td>\n",
       "      <td>26</td>\n",
       "    </tr>\n",
       "    <tr>\n",
       "      <th>1</th>\n",
       "      <td>g989</td>\n",
       "      <td>10</td>\n",
       "      <td>49.880528</td>\n",
       "      <td>0</td>\n",
       "      <td>Propriva</td>\n",
       "      <td>Female</td>\n",
       "      <td>21</td>\n",
       "      <td>26</td>\n",
       "      <td>g989-10</td>\n",
       "      <td>g989</td>\n",
       "      <td>10</td>\n",
       "      <td>51.745156</td>\n",
       "      <td>0</td>\n",
       "      <td>Propriva</td>\n",
       "      <td>Female</td>\n",
       "      <td>21</td>\n",
       "      <td>26</td>\n",
       "    </tr>\n",
       "    <tr>\n",
       "      <th>2</th>\n",
       "      <td>g989</td>\n",
       "      <td>15</td>\n",
       "      <td>53.442020</td>\n",
       "      <td>0</td>\n",
       "      <td>Propriva</td>\n",
       "      <td>Female</td>\n",
       "      <td>21</td>\n",
       "      <td>26</td>\n",
       "      <td>g989-15</td>\n",
       "      <td>g989</td>\n",
       "      <td>15</td>\n",
       "      <td>51.325852</td>\n",
       "      <td>1</td>\n",
       "      <td>Propriva</td>\n",
       "      <td>Female</td>\n",
       "      <td>21</td>\n",
       "      <td>26</td>\n",
       "    </tr>\n",
       "    <tr>\n",
       "      <th>3</th>\n",
       "      <td>g989</td>\n",
       "      <td>20</td>\n",
       "      <td>54.657650</td>\n",
       "      <td>1</td>\n",
       "      <td>Propriva</td>\n",
       "      <td>Female</td>\n",
       "      <td>21</td>\n",
       "      <td>26</td>\n",
       "      <td>g989-20</td>\n",
       "      <td>g989</td>\n",
       "      <td>20</td>\n",
       "      <td>55.326122</td>\n",
       "      <td>1</td>\n",
       "      <td>Propriva</td>\n",
       "      <td>Female</td>\n",
       "      <td>21</td>\n",
       "      <td>26</td>\n",
       "    </tr>\n",
       "  </tbody>\n",
       "</table>\n",
       "</div>"
      ],
      "text/plain": [
       "  Mouse ID_x  Timepoint_x  Tumor Volume (mm3)_x  Metastatic Sites_x  \\\n",
       "0       g989            0             45.000000                   0   \n",
       "4       g989            5             48.786801                   0   \n",
       "1       g989           10             49.880528                   0   \n",
       "2       g989           15             53.442020                   0   \n",
       "3       g989           20             54.657650                   1   \n",
       "\n",
       "  Drug Regimen_x   Sex_x  Age_months_x  Weight (g)_x mouse_check Mouse ID_y  \\\n",
       "0       Propriva  Female            21            26      g989-0       g989   \n",
       "4       Propriva  Female            21            26      g989-5       g989   \n",
       "1       Propriva  Female            21            26     g989-10       g989   \n",
       "2       Propriva  Female            21            26     g989-15       g989   \n",
       "3       Propriva  Female            21            26     g989-20       g989   \n",
       "\n",
       "   Timepoint_y  Tumor Volume (mm3)_y  Metastatic Sites_y Drug Regimen_y  \\\n",
       "0            0             45.000000                   0       Propriva   \n",
       "4            5             47.570392                   0       Propriva   \n",
       "1           10             51.745156                   0       Propriva   \n",
       "2           15             51.325852                   1       Propriva   \n",
       "3           20             55.326122                   1       Propriva   \n",
       "\n",
       "    Sex_y  Age_months_y  Weight (g)_y  \n",
       "0  Female            21            26  \n",
       "4  Female            21            26  \n",
       "1  Female            21            26  \n",
       "2  Female            21            26  \n",
       "3  Female            21            26  "
      ]
     },
     "execution_count": 4,
     "metadata": {},
     "output_type": "execute_result"
    }
   ],
   "source": [
    "# Optional: Get all the data for the duplicate mouse ID. \n",
    "\n",
    "dup_mouse_rec_f = mouse_data_df[mouse_data_df.duplicated([\"mouse_check\"],keep='first')]\n",
    "dup_mouse_rec_l = mouse_data_df[mouse_data_df.duplicated([\"mouse_check\"],keep='last')]\n",
    "\n",
    "dup_mouse_rec_all = pd.merge(dup_mouse_rec_f, dup_mouse_rec_l, on=\"mouse_check\", how=\"inner\")\n",
    "dup_mouse_rec_all = dup_mouse_rec_all.sort_values(\"Timepoint_x\",ascending= True)\n",
    "\n",
    "dup_mouse_rec_all\n"
   ]
  },
  {
   "cell_type": "code",
   "execution_count": 5,
   "metadata": {},
   "outputs": [
    {
     "name": "stdout",
     "output_type": "stream",
     "text": [
      "<class 'pandas.core.frame.DataFrame'>\n",
      "Index: 1880 entries, a203 to z969\n",
      "Data columns (total 8 columns):\n",
      " #   Column              Non-Null Count  Dtype  \n",
      "---  ------              --------------  -----  \n",
      " 0   Timepoint           1880 non-null   int64  \n",
      " 1   Tumor Volume (mm3)  1880 non-null   float64\n",
      " 2   Metastatic Sites    1880 non-null   int64  \n",
      " 3   Drug Regimen        1880 non-null   object \n",
      " 4   Sex                 1880 non-null   object \n",
      " 5   Age_months          1880 non-null   int64  \n",
      " 6   Weight (g)          1880 non-null   int64  \n",
      " 7   mouse_check         1880 non-null   object \n",
      "dtypes: float64(1), int64(4), object(3)\n",
      "memory usage: 132.2+ KB\n"
     ]
    }
   ],
   "source": [
    "# Create a clean DataFrame by dropping the duplicate mouse by its ID.\n",
    "\n",
    "#This works for removing data with exactly duplicates when mouse_check are duplicated.\n",
    "#mouse_data_df.drop_duplicates(subset = \"mouse_check\", keep = False, inplace= True)\n",
    "\n",
    "mouse_data_df.set_index('Mouse ID', inplace= True)\n",
    "\n",
    "# This works too!\n",
    "#mouse = 'g989'\n",
    "#new_mouse_data_df = mouse_data_df.drop([mouse])\n",
    "\n",
    "#This works for dropping all records for one Mouse ID\n",
    "new_mouse_data_df = mouse_data_df.drop(['g989'])\n",
    "\n",
    "#mouse_data_df.index\n",
    "new_mouse_data_df.info()"
   ]
  },
  {
   "cell_type": "code",
   "execution_count": 6,
   "metadata": {},
   "outputs": [
    {
     "data": {
      "text/plain": [
       "r811    10\n",
       "s337    10\n",
       "t198    10\n",
       "a818    10\n",
       "a520    10\n",
       "        ..\n",
       "l872     1\n",
       "u153     1\n",
       "t573     1\n",
       "x226     1\n",
       "b447     1\n",
       "Name: Mouse ID, Length: 248, dtype: int64"
      ]
     },
     "execution_count": 6,
     "metadata": {},
     "output_type": "execute_result"
    }
   ],
   "source": [
    "# Checking the number of mice in the clean DataFrame.\n",
    "\n",
    "\n",
    "# Reset the index\n",
    "new_mouse_data_df.reset_index(inplace= True)\n",
    "\n",
    "new_mouse_data_df['Mouse ID'].value_counts()\n",
    "\n",
    "#new_mouse_data_df.head()"
   ]
  },
  {
   "cell_type": "markdown",
   "metadata": {},
   "source": [
    "## Summary Statistics"
   ]
  },
  {
   "cell_type": "code",
   "execution_count": 7,
   "metadata": {},
   "outputs": [
    {
     "data": {
      "text/html": [
       "<div>\n",
       "<style scoped>\n",
       "    .dataframe tbody tr th:only-of-type {\n",
       "        vertical-align: middle;\n",
       "    }\n",
       "\n",
       "    .dataframe tbody tr th {\n",
       "        vertical-align: top;\n",
       "    }\n",
       "\n",
       "    .dataframe thead th {\n",
       "        text-align: right;\n",
       "    }\n",
       "</style>\n",
       "<table border=\"1\" class=\"dataframe\">\n",
       "  <thead>\n",
       "    <tr style=\"text-align: right;\">\n",
       "      <th></th>\n",
       "      <th>Mean Vol</th>\n",
       "      <th>Meadian Vol</th>\n",
       "      <th>Standard Deviation</th>\n",
       "      <th>Volume SEM</th>\n",
       "    </tr>\n",
       "    <tr>\n",
       "      <th>Drug Regimen</th>\n",
       "      <th></th>\n",
       "      <th></th>\n",
       "      <th></th>\n",
       "      <th></th>\n",
       "    </tr>\n",
       "  </thead>\n",
       "  <tbody>\n",
       "    <tr>\n",
       "      <th>Capomulin</th>\n",
       "      <td>40.675741</td>\n",
       "      <td>41.557809</td>\n",
       "      <td>4.994774</td>\n",
       "      <td>0.329346</td>\n",
       "    </tr>\n",
       "    <tr>\n",
       "      <th>Ceftamin</th>\n",
       "      <td>52.591172</td>\n",
       "      <td>51.776157</td>\n",
       "      <td>6.268188</td>\n",
       "      <td>0.469821</td>\n",
       "    </tr>\n",
       "    <tr>\n",
       "      <th>Infubinol</th>\n",
       "      <td>52.884795</td>\n",
       "      <td>51.820584</td>\n",
       "      <td>6.567243</td>\n",
       "      <td>0.492236</td>\n",
       "    </tr>\n",
       "    <tr>\n",
       "      <th>Ketapril</th>\n",
       "      <td>55.235638</td>\n",
       "      <td>53.698743</td>\n",
       "      <td>8.279709</td>\n",
       "      <td>0.603860</td>\n",
       "    </tr>\n",
       "    <tr>\n",
       "      <th>Naftisol</th>\n",
       "      <td>54.331565</td>\n",
       "      <td>52.509285</td>\n",
       "      <td>8.134708</td>\n",
       "      <td>0.596466</td>\n",
       "    </tr>\n",
       "    <tr>\n",
       "      <th>Placebo</th>\n",
       "      <td>54.033581</td>\n",
       "      <td>52.288934</td>\n",
       "      <td>7.821003</td>\n",
       "      <td>0.581331</td>\n",
       "    </tr>\n",
       "    <tr>\n",
       "      <th>Propriva</th>\n",
       "      <td>52.320930</td>\n",
       "      <td>50.446266</td>\n",
       "      <td>6.622085</td>\n",
       "      <td>0.544332</td>\n",
       "    </tr>\n",
       "    <tr>\n",
       "      <th>Ramicane</th>\n",
       "      <td>40.216745</td>\n",
       "      <td>40.673236</td>\n",
       "      <td>4.846308</td>\n",
       "      <td>0.320955</td>\n",
       "    </tr>\n",
       "    <tr>\n",
       "      <th>Stelasyn</th>\n",
       "      <td>54.233149</td>\n",
       "      <td>52.431737</td>\n",
       "      <td>7.710419</td>\n",
       "      <td>0.573111</td>\n",
       "    </tr>\n",
       "    <tr>\n",
       "      <th>Zoniferol</th>\n",
       "      <td>53.236507</td>\n",
       "      <td>51.818479</td>\n",
       "      <td>6.966589</td>\n",
       "      <td>0.516398</td>\n",
       "    </tr>\n",
       "  </tbody>\n",
       "</table>\n",
       "</div>"
      ],
      "text/plain": [
       "               Mean Vol  Meadian Vol  Standard Deviation  Volume SEM\n",
       "Drug Regimen                                                        \n",
       "Capomulin     40.675741    41.557809            4.994774    0.329346\n",
       "Ceftamin      52.591172    51.776157            6.268188    0.469821\n",
       "Infubinol     52.884795    51.820584            6.567243    0.492236\n",
       "Ketapril      55.235638    53.698743            8.279709    0.603860\n",
       "Naftisol      54.331565    52.509285            8.134708    0.596466\n",
       "Placebo       54.033581    52.288934            7.821003    0.581331\n",
       "Propriva      52.320930    50.446266            6.622085    0.544332\n",
       "Ramicane      40.216745    40.673236            4.846308    0.320955\n",
       "Stelasyn      54.233149    52.431737            7.710419    0.573111\n",
       "Zoniferol     53.236507    51.818479            6.966589    0.516398"
      ]
     },
     "execution_count": 7,
     "metadata": {},
     "output_type": "execute_result"
    }
   ],
   "source": [
    "# Generate a summary statistics table of mean, median, variance, standard deviation, and SEM of the tumor volume for each regimen\n",
    "\n",
    "# This method is the most straightforward, creating multiple series and putting them all together at the end.\n",
    "\n",
    "#new_mouse_data_df.describe()\n",
    "#new_mouse_data_df.head(20)\n",
    "\n",
    "# calculate the major stats for the Tumor Volume by Drug Regimen\n",
    "\n",
    "mean_volume = new_mouse_data_df.groupby([\"Drug Regimen\"]).mean()[\"Tumor Volume (mm3)\"]\n",
    "meadian_volume = new_mouse_data_df.groupby([\"Drug Regimen\"]).median()[\"Tumor Volume (mm3)\"]\n",
    "volume_stdev = new_mouse_data_df.groupby([\"Drug Regimen\"]).std()[\"Tumor Volume (mm3)\"]\n",
    "volume_sem = new_mouse_data_df.groupby([\"Drug Regimen\"]).sem()[\"Tumor Volume (mm3)\"]\n",
    "\n",
    "#create a dataframe of the resultant stats calculations.\n",
    "volume_stats = pd.DataFrame({'Mean Vol':mean_volume,'Meadian Vol':meadian_volume,\n",
    "                            'Standard Deviation':volume_stdev, 'Volume SEM':volume_sem})\n",
    "#math_grades.index.name = None\n",
    "\n",
    "volume_stats\n"
   ]
  },
  {
   "cell_type": "code",
   "execution_count": 8,
   "metadata": {
    "scrolled": true
   },
   "outputs": [
    {
     "data": {
      "text/html": [
       "<div>\n",
       "<style scoped>\n",
       "    .dataframe tbody tr th:only-of-type {\n",
       "        vertical-align: middle;\n",
       "    }\n",
       "\n",
       "    .dataframe tbody tr th {\n",
       "        vertical-align: top;\n",
       "    }\n",
       "\n",
       "    .dataframe thead th {\n",
       "        text-align: right;\n",
       "    }\n",
       "</style>\n",
       "<table border=\"1\" class=\"dataframe\">\n",
       "  <thead>\n",
       "    <tr style=\"text-align: right;\">\n",
       "      <th></th>\n",
       "      <th>Mean_Vol</th>\n",
       "      <th>Median_Vol</th>\n",
       "      <th>Standard_Deviation</th>\n",
       "      <th>Volume_Sem</th>\n",
       "    </tr>\n",
       "    <tr>\n",
       "      <th>Drug Regimen</th>\n",
       "      <th></th>\n",
       "      <th></th>\n",
       "      <th></th>\n",
       "      <th></th>\n",
       "    </tr>\n",
       "  </thead>\n",
       "  <tbody>\n",
       "    <tr>\n",
       "      <th>Capomulin</th>\n",
       "      <td>40.675741</td>\n",
       "      <td>41.557809</td>\n",
       "      <td>4.994774</td>\n",
       "      <td>0.329346</td>\n",
       "    </tr>\n",
       "    <tr>\n",
       "      <th>Ceftamin</th>\n",
       "      <td>52.591172</td>\n",
       "      <td>51.776157</td>\n",
       "      <td>6.268188</td>\n",
       "      <td>0.469821</td>\n",
       "    </tr>\n",
       "    <tr>\n",
       "      <th>Infubinol</th>\n",
       "      <td>52.884795</td>\n",
       "      <td>51.820584</td>\n",
       "      <td>6.567243</td>\n",
       "      <td>0.492236</td>\n",
       "    </tr>\n",
       "    <tr>\n",
       "      <th>Ketapril</th>\n",
       "      <td>55.235638</td>\n",
       "      <td>53.698743</td>\n",
       "      <td>8.279709</td>\n",
       "      <td>0.603860</td>\n",
       "    </tr>\n",
       "    <tr>\n",
       "      <th>Naftisol</th>\n",
       "      <td>54.331565</td>\n",
       "      <td>52.509285</td>\n",
       "      <td>8.134708</td>\n",
       "      <td>0.596466</td>\n",
       "    </tr>\n",
       "    <tr>\n",
       "      <th>Placebo</th>\n",
       "      <td>54.033581</td>\n",
       "      <td>52.288934</td>\n",
       "      <td>7.821003</td>\n",
       "      <td>0.581331</td>\n",
       "    </tr>\n",
       "    <tr>\n",
       "      <th>Propriva</th>\n",
       "      <td>52.320930</td>\n",
       "      <td>50.446266</td>\n",
       "      <td>6.622085</td>\n",
       "      <td>0.544332</td>\n",
       "    </tr>\n",
       "    <tr>\n",
       "      <th>Ramicane</th>\n",
       "      <td>40.216745</td>\n",
       "      <td>40.673236</td>\n",
       "      <td>4.846308</td>\n",
       "      <td>0.320955</td>\n",
       "    </tr>\n",
       "    <tr>\n",
       "      <th>Stelasyn</th>\n",
       "      <td>54.233149</td>\n",
       "      <td>52.431737</td>\n",
       "      <td>7.710419</td>\n",
       "      <td>0.573111</td>\n",
       "    </tr>\n",
       "    <tr>\n",
       "      <th>Zoniferol</th>\n",
       "      <td>53.236507</td>\n",
       "      <td>51.818479</td>\n",
       "      <td>6.966589</td>\n",
       "      <td>0.516398</td>\n",
       "    </tr>\n",
       "  </tbody>\n",
       "</table>\n",
       "</div>"
      ],
      "text/plain": [
       "               Mean_Vol  Median_Vol  Standard_Deviation  Volume_Sem\n",
       "Drug Regimen                                                       \n",
       "Capomulin     40.675741   41.557809            4.994774    0.329346\n",
       "Ceftamin      52.591172   51.776157            6.268188    0.469821\n",
       "Infubinol     52.884795   51.820584            6.567243    0.492236\n",
       "Ketapril      55.235638   53.698743            8.279709    0.603860\n",
       "Naftisol      54.331565   52.509285            8.134708    0.596466\n",
       "Placebo       54.033581   52.288934            7.821003    0.581331\n",
       "Propriva      52.320930   50.446266            6.622085    0.544332\n",
       "Ramicane      40.216745   40.673236            4.846308    0.320955\n",
       "Stelasyn      54.233149   52.431737            7.710419    0.573111\n",
       "Zoniferol     53.236507   51.818479            6.966589    0.516398"
      ]
     },
     "execution_count": 8,
     "metadata": {},
     "output_type": "execute_result"
    }
   ],
   "source": [
    "# Generate a summary statistics table of mean, median, variance, standard deviation, and SEM of the tumor volume for each regimen\n",
    "\n",
    "# This method produces everything in a single groupby function.\n",
    "\n",
    "volume_stats_2 = new_mouse_data_df.groupby([\"Drug Regimen\"]).agg(Mean_Vol = ('Tumor Volume (mm3)', 'mean'),\n",
    "                                                                 Median_Vol = ('Tumor Volume (mm3)', 'median'),\n",
    "                                                                 Standard_Deviation = ('Tumor Volume (mm3)', 'std'),\n",
    "                                                                 Volume_Sem = ('Tumor Volume (mm3)', 'sem'))\n",
    "                                                                \n",
    "volume_stats_2"
   ]
  },
  {
   "cell_type": "markdown",
   "metadata": {},
   "source": [
    "## Bar Plots"
   ]
  },
  {
   "cell_type": "code",
   "execution_count": 9,
   "metadata": {},
   "outputs": [
    {
     "data": {
      "image/png": "[encoded data removed]",
      "text/plain": [
       "<Figure size 1440x720 with 1 Axes>"
      ]
     },
     "metadata": {
      "needs_background": "light"
     },
     "output_type": "display_data"
    }
   ],
   "source": [
    "# Generate a bar plot showing the number of mice per time point for each treatment throughout the course of the study using pandas.\n",
    "\n",
    "# Pickout the data needed for the chart.\n",
    "treatment_time = new_mouse_data_df[[\"Drug Regimen\", \"Timepoint\"]]\n",
    "\n",
    "#group the data to get the breakouts needed.\n",
    "treatment_time_gr = treatment_time.groupby(['Drug Regimen','Timepoint'])\n",
    "\n",
    "# calculate the counts needed to be charted.\n",
    "count_timepoint = treatment_time_gr['Drug Regimen'].count()\n",
    "\n",
    "# generate the bar chart with Pandas\n",
    "treatment_type_cnt_chrt = count_timepoint.plot(kind='bar', figsize = (20,10))\n",
    "\n",
    "# decorate the chart for easier reading.\n",
    "treatment_type_cnt_chrt.set_xlabel(\"Treatment Type and Treatment Timepoints\")\n",
    "treatment_type_cnt_chrt.set_ylabel(\"Number of Timepoints per Treatment\")\n",
    "treatment_type_cnt_chrt.set_title(\"Mice per Time Point for Each Treatment Type\")\n",
    "\n",
    "plt.show()\n"
   ]
  },
  {
   "cell_type": "code",
   "execution_count": 10,
   "metadata": {},
   "outputs": [
    {
     "data": {
      "image/png": "[encoded data removed]",
      "text/plain": [
       "<Figure size 1440x720 with 1 Axes>"
      ]
     },
     "metadata": {
      "needs_background": "light"
     },
     "output_type": "display_data"
    }
   ],
   "source": [
    "# Generate a bar plot showing the number of mice per time point for each treatment throughout the course of the study using pyplot.\n",
    "import numpy as np\n",
    "\n",
    "# Create another data frame with needed data.\n",
    "treatment_time2 = new_mouse_data_df[[\"Drug Regimen\", \"Timepoint\"]]\n",
    "\n",
    "#Group data together, but put into a normal Data Frame verses a frustrating groupby Data Frame.\n",
    "treatment_time_gr2 = treatment_time2.reset_index().groupby( ['Drug Regimen','Timepoint'],as_index=False ).count()\n",
    "\n",
    "#Set the Y and X axis data for plotting.\n",
    "mouse_data_y = treatment_time_gr2['index']\n",
    "tick_labels = treatment_time_gr2[\"Drug Regimen\"] + \"-\" + treatment_time_gr2[\"Timepoint\"].apply(str)\n",
    "\n",
    "#Set the X axis for plot formatting.\n",
    "x_axis = np.arange(len(mouse_data_y))\n",
    "tick_locations = [value + .01 for value in x_axis]\n",
    "\n",
    "# Create the plot\n",
    "plt.figure(figsize = (20,10))\n",
    "plt.bar(x_axis, mouse_data_y, align=\"center\", alpha= 0.5)\n",
    "plt.xticks(tick_locations, tick_labels, rotation=\"vertical\")\n",
    "plt.xlim(-0.25, len(x_axis))\n",
    "\n",
    "# decorate the chart for easier reading.\n",
    "plt.title(\"Mice per Time Point for Each Treatment Type\")\n",
    "plt.xlabel(\"Treatment Type and Treatment Timepoints\")\n",
    "plt.ylabel(\"Number of Timepoints per Treatment\")\n",
    "\n",
    "plt.tight_layout()\n",
    "plt.show()\n",
    "\n"
   ]
  },
  {
   "cell_type": "markdown",
   "metadata": {},
   "source": [
    "## Pie Plots"
   ]
  },
  {
   "cell_type": "code",
   "execution_count": 11,
   "metadata": {},
   "outputs": [
    {
     "data": {
      "image/png": "[encoded data removed]",
      "text/plain": [
       "<Figure size 288x288 with 1 Axes>"
      ]
     },
     "metadata": {},
     "output_type": "display_data"
    }
   ],
   "source": [
    "# Generate a pie plot showing the distribution of female versus male mice using pandas\n",
    "\n",
    "mouse_sex_df = new_mouse_data_df[[\"Mouse ID\", \"Sex\"]]\n",
    "mouse_sex_gr = mouse_sex_df.reset_index().groupby([\"Mouse ID\",\"Sex\"],as_index= False).count()\n",
    "\n",
    "mouse_sex_cnt = mouse_sex_gr['Sex'].value_counts()\n",
    "mouse_sex_cnt\n",
    "\n",
    "mouse_sex_cnt_chrt = mouse_sex_cnt.plot(kind='pie', figsize = (4,4))\n",
    "\n",
    "# decorate the chart for eadier reading.\n",
    "mouse_sex_cnt_chrt.set_title(\"Sex of Mice in the Trial\")\n",
    "\n",
    "plt.tight_layout()\n",
    "#plt.axis(\"equal\")\n",
    "\n",
    "plt.show()\n",
    "\n"
   ]
  },
  {
   "cell_type": "code",
   "execution_count": 12,
   "metadata": {},
   "outputs": [
    {
     "data": {
      "image/png": "[encoded data removed]",
      "text/plain": [
       "<Figure size 432x288 with 1 Axes>"
      ]
     },
     "metadata": {},
     "output_type": "display_data"
    }
   ],
   "source": [
    "# Generate a pie plot showing the distribution of female versus male mice using pyplot\n",
    "\n",
    "labels = [\"Males\", \"Females\"]\n",
    "colors = [\"red\", \"lightskyblue\"]\n",
    "explode = (0.1, 0)\n",
    "\n",
    "plt.title(\"Sex of Mice in the Trial\")\n",
    "plt.pie(mouse_sex_cnt, explode=explode, labels=labels, colors=colors,\n",
    "        autopct=\"%1.1f%%\", shadow=True, startangle= 180)\n",
    "\n",
    "plt.tight_layout()\n",
    "plt.show()\n",
    "\n"
   ]
  },
  {
   "cell_type": "markdown",
   "metadata": {},
   "source": [
    "## Quartiles, Outliers and Boxplots"
   ]
  },
  {
   "cell_type": "code",
   "execution_count": 13,
   "metadata": {},
   "outputs": [
    {
     "name": "stdout",
     "output_type": "stream",
     "text": [
      " \n",
      "             The statics for the end of Drug Regimen Treatments.\n"
     ]
    },
    {
     "data": {
      "text/html": [
       "<div>\n",
       "<style scoped>\n",
       "    .dataframe tbody tr th:only-of-type {\n",
       "        vertical-align: middle;\n",
       "    }\n",
       "\n",
       "    .dataframe tbody tr th {\n",
       "        vertical-align: top;\n",
       "    }\n",
       "\n",
       "    .dataframe thead th {\n",
       "        text-align: right;\n",
       "    }\n",
       "</style>\n",
       "<table border=\"1\" class=\"dataframe\">\n",
       "  <thead>\n",
       "    <tr style=\"text-align: right;\">\n",
       "      <th></th>\n",
       "      <th>Mean Vol</th>\n",
       "      <th>Meadian Vol</th>\n",
       "      <th>Standard Deviation</th>\n",
       "      <th>Volume SEM</th>\n",
       "      <th>IQR Volume</th>\n",
       "    </tr>\n",
       "    <tr>\n",
       "      <th>Drug Regimen</th>\n",
       "      <th></th>\n",
       "      <th></th>\n",
       "      <th></th>\n",
       "      <th></th>\n",
       "      <th></th>\n",
       "    </tr>\n",
       "  </thead>\n",
       "  <tbody>\n",
       "    <tr>\n",
       "      <th>Capomulin</th>\n",
       "      <td>36.667568</td>\n",
       "      <td>38.125164</td>\n",
       "      <td>5.715188</td>\n",
       "      <td>1.143038</td>\n",
       "      <td>7.781863</td>\n",
       "    </tr>\n",
       "    <tr>\n",
       "      <th>Ceftamin</th>\n",
       "      <td>57.753977</td>\n",
       "      <td>59.851956</td>\n",
       "      <td>8.365568</td>\n",
       "      <td>1.673114</td>\n",
       "      <td>15.577752</td>\n",
       "    </tr>\n",
       "    <tr>\n",
       "      <th>Infubinol</th>\n",
       "      <td>58.178246</td>\n",
       "      <td>60.165180</td>\n",
       "      <td>8.602957</td>\n",
       "      <td>1.720591</td>\n",
       "      <td>11.477135</td>\n",
       "    </tr>\n",
       "    <tr>\n",
       "      <th>Ketapril</th>\n",
       "      <td>62.806191</td>\n",
       "      <td>64.487812</td>\n",
       "      <td>9.945920</td>\n",
       "      <td>1.989184</td>\n",
       "      <td>13.152155</td>\n",
       "    </tr>\n",
       "    <tr>\n",
       "      <th>Naftisol</th>\n",
       "      <td>61.205757</td>\n",
       "      <td>63.283288</td>\n",
       "      <td>10.297083</td>\n",
       "      <td>2.059417</td>\n",
       "      <td>17.484111</td>\n",
       "    </tr>\n",
       "    <tr>\n",
       "      <th>Placebo</th>\n",
       "      <td>60.508414</td>\n",
       "      <td>62.030594</td>\n",
       "      <td>8.874672</td>\n",
       "      <td>1.774934</td>\n",
       "      <td>15.191386</td>\n",
       "    </tr>\n",
       "    <tr>\n",
       "      <th>Propriva</th>\n",
       "      <td>56.493884</td>\n",
       "      <td>55.591622</td>\n",
       "      <td>8.415626</td>\n",
       "      <td>1.717832</td>\n",
       "      <td>13.569629</td>\n",
       "    </tr>\n",
       "    <tr>\n",
       "      <th>Ramicane</th>\n",
       "      <td>36.191390</td>\n",
       "      <td>36.561652</td>\n",
       "      <td>5.671539</td>\n",
       "      <td>1.134308</td>\n",
       "      <td>9.098537</td>\n",
       "    </tr>\n",
       "    <tr>\n",
       "      <th>Stelasyn</th>\n",
       "      <td>61.001707</td>\n",
       "      <td>62.192350</td>\n",
       "      <td>9.504293</td>\n",
       "      <td>1.940056</td>\n",
       "      <td>16.627349</td>\n",
       "    </tr>\n",
       "    <tr>\n",
       "      <th>Zoniferol</th>\n",
       "      <td>59.181258</td>\n",
       "      <td>61.840058</td>\n",
       "      <td>8.767099</td>\n",
       "      <td>1.753420</td>\n",
       "      <td>16.805854</td>\n",
       "    </tr>\n",
       "  </tbody>\n",
       "</table>\n",
       "</div>"
      ],
      "text/plain": [
       "               Mean Vol  Meadian Vol  Standard Deviation  Volume SEM  \\\n",
       "Drug Regimen                                                           \n",
       "Capomulin     36.667568    38.125164            5.715188    1.143038   \n",
       "Ceftamin      57.753977    59.851956            8.365568    1.673114   \n",
       "Infubinol     58.178246    60.165180            8.602957    1.720591   \n",
       "Ketapril      62.806191    64.487812            9.945920    1.989184   \n",
       "Naftisol      61.205757    63.283288           10.297083    2.059417   \n",
       "Placebo       60.508414    62.030594            8.874672    1.774934   \n",
       "Propriva      56.493884    55.591622            8.415626    1.717832   \n",
       "Ramicane      36.191390    36.561652            5.671539    1.134308   \n",
       "Stelasyn      61.001707    62.192350            9.504293    1.940056   \n",
       "Zoniferol     59.181258    61.840058            8.767099    1.753420   \n",
       "\n",
       "              IQR Volume  \n",
       "Drug Regimen              \n",
       "Capomulin       7.781863  \n",
       "Ceftamin       15.577752  \n",
       "Infubinol      11.477135  \n",
       "Ketapril       13.152155  \n",
       "Naftisol       17.484111  \n",
       "Placebo        15.191386  \n",
       "Propriva       13.569629  \n",
       "Ramicane        9.098537  \n",
       "Stelasyn       16.627349  \n",
       "Zoniferol      16.805854  "
      ]
     },
     "execution_count": 13,
     "metadata": {},
     "output_type": "execute_result"
    }
   ],
   "source": [
    "# Calculate the final tumor volume of each mouse across four of the most promising treatment regimens. \n",
    "# And, Calculate the IQR and quantitatively determine if there are any potential outliers. \n",
    "\n",
    "# Move the data that you need into a new DataFrame and Sort by grouping intended.\n",
    "tumor_volume_df = new_mouse_data_df[[\"Mouse ID\", \"Drug Regimen\", \"Tumor Volume (mm3)\", \"Timepoint\"]]\n",
    "tumor_volume_df = tumor_volume_df.sort_values([\"Mouse ID\", \"Timepoint\"], ascending= True)\n",
    "\n",
    "#Get the last record of the mice to find the the tumor sizes at the end of their treatments.\n",
    "#tumor_volume_gr = tumor_volume_df.reset_index().groupby([\"Mouse ID\", \"Timepoint\"],as_index= False).last()\n",
    "tumor_volume_gr = tumor_volume_df.reset_index().groupby(\"Mouse ID\", as_index= False).last()\n",
    "del tumor_volume_gr['index']\n",
    "\n",
    "#tumor_volume_gr\n",
    "\n",
    "mean_volume_l = tumor_volume_gr.groupby([\"Drug Regimen\"]).mean()[\"Tumor Volume (mm3)\"]\n",
    "meadian_volume_l = tumor_volume_gr.groupby([\"Drug Regimen\"]).median()[\"Tumor Volume (mm3)\"]\n",
    "volume_stdev_l = tumor_volume_gr.groupby([\"Drug Regimen\"]).std()[\"Tumor Volume (mm3)\"]\n",
    "volume_sem_l = tumor_volume_gr.groupby([\"Drug Regimen\"]).sem()[\"Tumor Volume (mm3)\"]\n",
    "\n",
    "iqr_df = tumor_volume_gr[[\"Drug Regimen\", \"Tumor Volume (mm3)\"]]\n",
    "volume_q1 = iqr_df.groupby([\"Drug Regimen\"]).quantile(0.25)\n",
    "volume_q3 = iqr_df.groupby([\"Drug Regimen\"]).quantile(0.75)\n",
    "volume_iqr = volume_q3 - volume_q1\n",
    "\n",
    "#volume_sem_l = volume_iqr.groupby([\"Drug Regimen\"]).max()[\"Tumor Volume (mm3)\"]\n",
    "\n",
    "\n",
    "#create a dataframe of the resultant stats calculations.\n",
    "volume_stats_l = pd.DataFrame({'Mean Vol':mean_volume_l,'Meadian Vol':meadian_volume_l,\n",
    "                               'Standard Deviation':volume_stdev_l, 'Volume SEM':volume_sem_l})\n",
    "\n",
    "#add the IQR column into the Data Frame\n",
    "volume_stats_l2 = pd.concat([volume_stats_l, volume_iqr], axis=1)\n",
    "volume_stats_l3 = volume_stats_l2.rename(columns={\"Tumor Volume (mm3)\":\"IQR Volume\"})\n",
    "\n",
    "print(f\" \")\n",
    "print(f\"             The statics for the end of Drug Regimen Treatments.\")\n",
    "\n",
    "\n",
    "volume_stats_l3\n",
    "\n",
    "#tumor_volume_gr.dtypes\n",
    "#volume_iqr_l.dtypes\n",
    "#volume_stdev_l.dtypes"
   ]
  },
  {
   "cell_type": "code",
   "execution_count": 14,
   "metadata": {},
   "outputs": [
    {
     "data": {
      "image/png": "[encoded data removed]",
      "text/plain": [
       "<Figure size 432x288 with 1 Axes>"
      ]
     },
     "metadata": {
      "needs_background": "light"
     },
     "output_type": "display_data"
    },
    {
     "data": {
      "image/png": "[encoded data removed]",
      "text/plain": [
       "<Figure size 432x288 with 1 Axes>"
      ]
     },
     "metadata": {
      "needs_background": "light"
     },
     "output_type": "display_data"
    },
    {
     "data": {
      "image/png": "[encoded data removed]",
      "text/plain": [
       "<Figure size 432x288 with 1 Axes>"
      ]
     },
     "metadata": {
      "needs_background": "light"
     },
     "output_type": "display_data"
    },
    {
     "data": {
      "image/png": "[encoded data removed]",
      "text/plain": [
       "<Figure size 432x288 with 1 Axes>"
      ]
     },
     "metadata": {
      "needs_background": "light"
     },
     "output_type": "display_data"
    },
    {
     "data": {
      "image/png": "[encoded data removed]",
      "text/plain": [
       "<Figure size 432x288 with 1 Axes>"
      ]
     },
     "metadata": {
      "needs_background": "light"
     },
     "output_type": "display_data"
    }
   ],
   "source": [
    "# Generate a box plot of the final tumor volume of each mouse across four regimens of interest\n",
    "\n",
    "tumor_volume_gr_rp = tumor_volume_gr[[\"Drug Regimen\", \"Tumor Volume (mm3)\"]]\n",
    "tumor_volume_gr_rp = tumor_volume_gr_rp.set_index(\"Drug Regimen\")\n",
    "blue_circle = dict(markerfacecolor= 'b', marker= '8')\n",
    "\n",
    "\n",
    "# This works is too.\n",
    "#tumor_vol_data = tumor_volume_gr_rp.loc[\"Ramicane\",[\"Tumor Volume (mm3)\"]]\n",
    "\n",
    "# Collect the Data.\n",
    "regimen_type = \"Ramicane\"\n",
    "tumor_vol_data_df = tumor_volume_gr_rp.loc[regimen_type,[\"Tumor Volume (mm3)\"]]\n",
    "tumor_vol_data = tumor_vol_data_df[\"Tumor Volume (mm3)\"]\n",
    "tumor_data1 = tumor_vol_data_df[\"Tumor Volume (mm3)\"]\n",
    "\n",
    "#Display the Box Plots.\n",
    "fig1, ax1 = plt.subplots()\n",
    "ax1.set_title('Tumor Volume at Last Timepoint for ' + regimen_type)\n",
    "ax1.set_ylabel('Tumor Volume')\n",
    "ax1.boxplot(tumor_vol_data, flierprops= blue_circle)\n",
    "plt.show()\n",
    "\n",
    "regimen_type = \"Capomulin\"\n",
    "tumor_vol_data_df = tumor_volume_gr_rp.loc[regimen_type,[\"Tumor Volume (mm3)\"]]\n",
    "tumor_vol_data = tumor_vol_data_df[\"Tumor Volume (mm3)\"]\n",
    "tumor_data2 = tumor_vol_data_df[\"Tumor Volume (mm3)\"]\n",
    "\n",
    "fig1, ax1 = plt.subplots()\n",
    "ax1.set_title('Tumor Volume at Last Timepoint for ' + regimen_type)\n",
    "ax1.set_ylabel('Tumor Volume')\n",
    "ax1.boxplot(tumor_vol_data, flierprops= blue_circle)\n",
    "plt.show()\n",
    "\n",
    "regimen_type = \"Propriva\"\n",
    "tumor_vol_data_df = tumor_volume_gr_rp.loc[regimen_type,[\"Tumor Volume (mm3)\"]]\n",
    "tumor_vol_data = tumor_vol_data_df[\"Tumor Volume (mm3)\"]\n",
    "tumor_data3 = tumor_vol_data_df[\"Tumor Volume (mm3)\"]\n",
    "\n",
    "fig1, ax1 = plt.subplots()\n",
    "ax1.set_title('Tumor Volume at Last Timepoint for ' + regimen_type)\n",
    "ax1.set_ylabel('Tumor Volume')\n",
    "ax1.boxplot(tumor_vol_data, flierprops= blue_circle)\n",
    "plt.show()\n",
    "\n",
    "regimen_type = \"Ceftamin\"\n",
    "tumor_vol_data_df = tumor_volume_gr_rp.loc[regimen_type,[\"Tumor Volume (mm3)\"]]\n",
    "tumor_vol_data = tumor_vol_data_df[\"Tumor Volume (mm3)\"]\n",
    "tumor_data4 = tumor_vol_data_df[\"Tumor Volume (mm3)\"]\n",
    "\n",
    "fig1, ax1 = plt.subplots()\n",
    "ax1.set_title('Tumor Volume at Last Timepoint for ' + regimen_type)\n",
    "ax1.set_ylabel('Tumor Volume')\n",
    "ax1.boxplot(tumor_vol_data, flierprops= blue_circle)\n",
    "plt.show()\n",
    "\n",
    "# Print a combined graph of the 4 Regimen Type\n",
    "\n",
    "four_plots = [tumor_data1, tumor_data2, tumor_data3, tumor_data3]\n",
    "fig1, ax1 = plt.subplots()\n",
    "ax1.set_title('Tumor Volume at Last Timepoint for the Four Regimens')\n",
    "ax1.set_ylabel('Tumor Volume')\n",
    "ax1.boxplot(four_plots, flierprops= blue_circle)\n",
    "plt.show()\n"
   ]
  },
  {
   "cell_type": "markdown",
   "metadata": {},
   "source": [
    "## Line and Scatter Plots"
   ]
  },
  {
   "cell_type": "code",
   "execution_count": 15,
   "metadata": {},
   "outputs": [
    {
     "data": {
      "image/png": "[encoded data removed]",
      "text/plain": [
       "<Figure size 432x288 with 1 Axes>"
      ]
     },
     "metadata": {
      "needs_background": "light"
     },
     "output_type": "display_data"
    }
   ],
   "source": [
    "# Generate a line plot of time point versus tumor volume for a mouse treated with Capomulin\n",
    "# For a Mouse\n",
    "\n",
    "tumor_volume_df_reg = new_mouse_data_df[[\"Mouse ID\", \"Drug Regimen\", \"Tumor Volume (mm3)\", \"Timepoint\"]]\n",
    "tumor_volume_df_reg = tumor_volume_df_reg.set_index(\"Mouse ID\")\n",
    "\n",
    "mouse=\"g288\"\n",
    "\n",
    "tumor_vol_data_dfsc = tumor_volume_df_reg.loc[mouse,[\"Tumor Volume (mm3)\", \"Timepoint\"]]\n",
    "tumor_vol_data_dfsc = tumor_vol_data_dfsc.sort_values(\"Timepoint\",ascending=True)\n",
    "tumor_vol_data = tumor_vol_data_dfsc[\"Tumor Volume (mm3)\"]\n",
    "tumor_time_data = tumor_vol_data_dfsc[\"Timepoint\"]\n",
    "#tumor_vol_data_dfsc\n",
    "#tumor_time_data\n",
    "\n",
    "plt.plot(tumor_time_data, tumor_vol_data, color=\"green\", label=\"Wins\")\n",
    "plt.title(mouse + \" Tumor Size over Time for Regimen Treatment Capomulin.\")\n",
    "plt.xlabel(\"Time Points\")\n",
    "plt.ylabel(\"Tumor Size\")\n",
    "           \n",
    "plt.show()        "
   ]
  },
  {
   "cell_type": "code",
   "execution_count": 16,
   "metadata": {},
   "outputs": [
    {
     "data": {
      "image/png": "[encoded data removed]",
      "text/plain": [
       "<Figure size 432x288 with 1 Axes>"
      ]
     },
     "metadata": {
      "needs_background": "light"
     },
     "output_type": "display_data"
    }
   ],
   "source": [
    "# Generate a scatter plot of mouse weight versus average tumor volume for the Capomulin regimen\n",
    "\n",
    "mouse_wght_tum_vol_df = new_mouse_data_df[[\"Mouse ID\", \"Drug Regimen\", \"Tumor Volume (mm3)\", \"Weight (g)\"]]\n",
    "mouse_wght_tum_vol_df = mouse_wght_tum_vol_df.set_index(\"Drug Regimen\")\n",
    "\n",
    "regimen_type = \"Capomulin\"\n",
    "mouse_wght_tum_vol_df_2 = mouse_wght_tum_vol_df.loc[regimen_type,[\"Mouse ID\", \"Tumor Volume (mm3)\", \"Weight (g)\"]]\n",
    "\n",
    "mouse_wght_tum_vol_df_3 = mouse_wght_tum_vol_df_2.groupby([\"Mouse ID\"]).agg(Avg_tum_vol = ('Tumor Volume (mm3)', 'mean'),\n",
    "                                                                            Mouse_wght_g = ('Weight (g)', 'max'))\n",
    "                                                                 \n",
    "x_values = mouse_wght_tum_vol_df_3['Mouse_wght_g']\n",
    "y_values = mouse_wght_tum_vol_df_3['Avg_tum_vol']\n",
    "\n",
    "plt.scatter(x_values,y_values)\n",
    "plt.xlabel('Mouse Weight')\n",
    "plt.ylabel('Mean Tumor Weight')\n",
    "plt.title('Tumor Size by Mouse Weight for Drug Regimen--> ' + regimen_type)\n",
    "plt.show()"
   ]
  },
  {
   "cell_type": "markdown",
   "metadata": {},
   "source": [
    "## Correlation and Regression"
   ]
  },
  {
   "cell_type": "code",
   "execution_count": 17,
   "metadata": {
    "scrolled": true
   },
   "outputs": [
    {
     "name": "stdout",
     "output_type": "stream",
     "text": [
      "The R-Squared value is--> 0.7089\n"
     ]
    },
    {
     "data": {
      "image/png": "[encoded data removed]",
      "text/plain": [
       "<Figure size 432x288 with 1 Axes>"
      ]
     },
     "metadata": {
      "needs_background": "light"
     },
     "output_type": "display_data"
    }
   ],
   "source": [
    "# Calculate the correlation coefficient and linear regression model \n",
    "# for mouse weight and average tumor volume for the Capomulin regimen\n",
    "\n",
    "x_values = mouse_wght_tum_vol_df_3['Mouse_wght_g']\n",
    "y_values = mouse_wght_tum_vol_df_3['Avg_tum_vol']\n",
    "\n",
    "(slope, intercept, rvalue, pvalue, stderr) = st.linregress(x_values, y_values)\n",
    "regress_values = x_values * slope + intercept\n",
    "line_eq = \"y = \" + str(round(slope,2)) + \"x + \" + str(round(intercept,2))\n",
    "\n",
    "plt.scatter(x_values,y_values)\n",
    "\n",
    "plt.plot(x_values,regress_values,\"r-\")\n",
    "plt.annotate(line_eq,xy=(20,36),fontsize=16,color= \"black\")\n",
    "\n",
    "\n",
    "plt.xlabel('Mouse Weight')\n",
    "plt.ylabel('Mean Tumor Weight')\n",
    "plt.title('Tumor Size by Mouse Weight for Drug Regimen--> ' + regimen_type)\n",
    "\n",
    "print(f\"The R-Squared value is--> {round(rvalue**2,4)}\")\n",
    "#print(f\"The Line Equation is --> {line_eq}\")\n",
    "plt.show()\n",
    "\n"
   ]
  },
  {
   "cell_type": "code",
   "execution_count": null,
   "metadata": {},
   "outputs": [],
   "source": []
  }
 ],
 "metadata": {
  "anaconda-cloud": {},
  "kernelspec": {
   "display_name": "Python 3",
   "language": "python",
   "name": "python3"
  },
  "language_info": {
   "codemirror_mode": {
    "name": "ipython",
    "version": 3
   },
   "file_extension": ".py",
   "mimetype": "text/x-python",
   "name": "python",
   "nbconvert_exporter": "python",
   "pygments_lexer": "ipython3",
   "version": "3.7.6"
  }
 },
 "nbformat": 4,
 "nbformat_minor": 2
}
